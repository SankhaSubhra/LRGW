{
 "cells": [
  {
   "cell_type": "code",
   "execution_count": 1,
   "metadata": {},
   "outputs": [],
   "source": [
    "import sys\n",
    "sys.path.append(\"../\")\n",
    "import torch\n",
    "from solver.vanilla_sinkhorn_solver import VanillaSinkhornSolver\n",
    "from solver.utils import generate_measure\n",
    "torch.set_printoptions(8)\n",
    "import itertools\n",
    "import numpy as np\n",
    "import matplotlib.pyplot as plt"
   ]
  },
  {
   "cell_type": "code",
   "execution_count": 2,
   "metadata": {},
   "outputs": [],
   "source": [
    "def distmat(Y,X):\n",
    "    return torch.sum(X**2,0)[:,None] + torch.sum(Y**2,0)[None,:] - 2*X.transpose(0,1) @ Y"
   ]
  },
  {
   "cell_type": "code",
   "execution_count": 3,
   "metadata": {},
   "outputs": [],
   "source": [
    "n = 6 # number samples\n",
    "d = 2 # dimension\n",
    "\n",
    "# random points\n",
    "torch.manual_seed(12)\n",
    "X = torch.randn(d,n)*.3\n",
    "\n",
    "# curve\n",
    "n = 30\n",
    "t = torch.linspace(0,1-1/n,n)[None,:]\n",
    "eta = .5\n",
    "X = torch.cat( (torch.cos(2*np.pi*t),eta*torch.sin(2*np.pi*t)), 0 )\n",
    "\n",
    "a = torch.ones(n)/n\n",
    "Y = X\n",
    "b = a\n",
    "CX = distmat(X,X)\n",
    "CY = distmat(Y,Y)"
   ]
  },
  {
   "cell_type": "code",
   "execution_count": 114,
   "metadata": {},
   "outputs": [
    {
     "data": {
      "image/png": "[encoded data removed]",
      "text/plain": [
       "<Figure size 432x288 with 1 Axes>"
      ]
     },
     "metadata": {
      "needs_background": "light"
     },
     "output_type": "display_data"
    }
   ],
   "source": [
    "plt.plot(X[0,:].numpy(), X[1,:].numpy(), '.')\n",
    "plt.axis('equal');\n",
    "#plt.imshow(CX)"
   ]
  },
  {
   "cell_type": "code",
   "execution_count": 127,
   "metadata": {},
   "outputs": [],
   "source": [
    "# Set up a solver for KL-(U)GW\n",
    "# Set rho=None to run balanced GW computation\n",
    "epsilon = 0.001\n",
    "epsilon = 0.001\n",
    "\n",
    "pi0 = torch.rand((n,n))\n",
    "pi0 = pi0/torch.sum(pi0)\n",
    "\n",
    "solv = VanillaSinkhornSolver(nits_plan=1000, nits_sinkhorn=1000, gradient=False, tol_plan=1e-5, tol_sinkhorn=1e-5,\n",
    "                             eps=epsilon, rho=float(\"Inf\"))\n",
    "pi, gamma = solv.alternate_sinkhorn(a, CX, b, CY, init=pi0)\n",
    "cost = solv.ugw_cost(pi, gamma, a, CX, b, CY)"
   ]
  },
  {
   "cell_type": "code",
   "execution_count": 128,
   "metadata": {},
   "outputs": [
    {
     "data": {
      "text/plain": [
       "<matplotlib.image.AxesImage at 0x7fd94edb4ef0>"
      ]
     },
     "execution_count": 128,
     "metadata": {},
     "output_type": "execute_result"
    },
    {
     "data": {
      "image/png": "[encoded data removed]",
      "text/plain": [
       "<Figure size 432x288 with 1 Axes>"
      ]
     },
     "metadata": {
      "needs_background": "light"
     },
     "output_type": "display_data"
    }
   ],
   "source": [
    "pl.imshow(pi)"
   ]
  },
  {
   "cell_type": "code",
   "execution_count": null,
   "metadata": {},
   "outputs": [],
   "source": []
  }
 ],
 "metadata": {
  "kernelspec": {
   "display_name": "Python 3",
   "language": "python",
   "name": "python3"
  },
  "language_info": {
   "codemirror_mode": {
    "name": "ipython",
    "version": 3
   },
   "file_extension": ".py",
   "mimetype": "text/x-python",
   "name": "python",
   "nbconvert_exporter": "python",
   "pygments_lexer": "ipython3",
   "version": "3.9.1"
  }
 },
 "nbformat": 4,
 "nbformat_minor": 2
}
