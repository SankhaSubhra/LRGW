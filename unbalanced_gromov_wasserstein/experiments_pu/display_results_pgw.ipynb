{
 "cells": [
  {
   "cell_type": "markdown",
   "metadata": {},
   "source": [
    "# Display of the performance results for PGW and the PW initialization"
   ]
  },
  {
   "cell_type": "markdown",
   "metadata": {},
   "source": [
    "In this notebook we run the code implemented in 'partial_gw.py' which is adapted from Chapel et al.\n",
    "\n",
    "We compute PGW in the setting of domain adaptation with the same of different features, and with a prior set to either 10 or 20%. We also compute the initialization Partial-Wasserstein when the feature types are the same."
   ]
  },
  {
   "cell_type": "code",
   "execution_count": 1,
   "metadata": {},
   "outputs": [],
   "source": [
    "import os\n",
    "import utils\n",
    "import numpy as np\n",
    "from IPython.display import HTML, display, Markdown\n",
    "import pandas as pd\n",
    "from sklearn.metrics import accuracy_score, recall_score, precision_score\n",
    "\n",
    "import ot\n",
    "import partial_gw as pgw\n",
    "import matplotlib.pyplot as plt\n",
    "\n",
    "name_path = 'results_pgw'\n",
    "path = os.getcwd() + \"/saved_plans\"\n",
    "if not os.path.isdir(path):\n",
    "    os.mkdir(path)\n",
    "path = path + \"/\" + name_path\n",
    "if not os.path.isdir(path):\n",
    "    os.mkdir(path)"
   ]
  },
  {
   "cell_type": "markdown",
   "metadata": {},
   "source": [
    "# Caltech dataset - PU on different domains\n",
    "## Prior is set to 10%"
   ]
  },
  {
   "cell_type": "code",
   "execution_count": 7,
   "metadata": {},
   "outputs": [],
   "source": [
    "n_unl = 100\n",
    "n_pos = 100\n",
    "nb_reps = 20\n",
    "nb_dummies = 10\n",
    "prior = 0.1\n",
    "domain_s = ['surf_Caltech', 'surf_amazon', 'surf_webcam', 'surf_dslr']\n",
    "domain_d = ['decaf_caltech', 'decaf_amazon', 'decaf_webcam', 'decaf_dslr']"
   ]
  },
  {
   "cell_type": "code",
   "execution_count": 6,
   "metadata": {},
   "outputs": [],
   "source": [
    "domain_s = ['surf_Caltech', 'surf_amazon', 'surf_webcam', 'surf_dslr']\n",
    "for d in domain_s:\n",
    "    pgw.compute_perf_pgw('surf_Caltech', d, n_pos, n_unl, prior, nb_reps, 'results_pgw', nb_dummies)\n",
    "    \n",
    "domain_d = ['decaf_caltech', 'decaf_amazon', 'decaf_webcam', 'decaf_dslr']\n",
    "for d in domain_d:\n",
    "    pgw.compute_perf_pgw('decaf_caltech', d, n_pos, n_unl, prior, nb_reps, 'results_pgw', nb_dummies)"
   ]
  },
  {
   "cell_type": "code",
   "execution_count": 8,
   "metadata": {},
   "outputs": [
    {
     "name": "stdout",
     "output_type": "stream",
     "text": [
      "Accuracy for dataset ('surf_Caltech', 'surf_Caltech', 0.1): 84.89999999999999 $\\pm$ 1.9467922333931804\n",
      "Accuracy for dataset ('surf_Caltech', 'surf_amazon', 0.1): 82.2 $\\pm$ 1.8867962264113187\n",
      "Accuracy for dataset ('surf_Caltech', 'surf_webcam', 0.1): 81.30000000000001 $\\pm$ 1.8193405398660225\n",
      "Accuracy for dataset ('surf_Caltech', 'surf_dslr', 0.1): 81.4 $\\pm$ 1.6852299546352687\n",
      "Accuracy for dataset ('decaf_caltech', 'decaf_caltech', 0.1): 83.0 $\\pm$ 2.2360679774997885\n",
      "Accuracy for dataset ('decaf_caltech', 'decaf_amazon', 0.1): 81.4 $\\pm$ 1.9078784028338882\n",
      "Accuracy for dataset ('decaf_caltech', 'decaf_webcam', 0.1): 82.70000000000002 $\\pm$ 2.5514701644346127\n",
      "Accuracy for dataset ('decaf_caltech', 'decaf_dslr', 0.1): 83.79999999999998 $\\pm$ 1.5362291495737233\n"
     ]
    }
   ],
   "source": [
    "domain_s = ['surf_Caltech', 'surf_amazon', 'surf_webcam', 'surf_dslr']\n",
    "domain_d = ['decaf_caltech', 'decaf_amazon', 'decaf_webcam', 'decaf_dslr']\n",
    "np.set_printoptions(precision=5)\n",
    "datasets = [('surf_Caltech', d) for d in domain_s] + [('decaf_caltech', d) for d in domain_d]\n",
    "for (d_p, d_u) in datasets:\n",
    "    acc, rec, prec = [], [], []\n",
    "    \n",
    "    # Aggregate and compute accuracies\n",
    "    for i in range(nb_reps):\n",
    "        P, U, y_u = utils.draw_p_u_dataset_scar(d_p, d_u, n_pos, n_unl, prior, i)\n",
    "        nb_unl_pos = int(np.sum(y_u))\n",
    "        \n",
    "        plan = np.load(path + f'/partial_gw_plan_{d_p}_{n_pos}_{d_u}_{n_unl}_prior{prior}_reps{i}.npy', allow_pickle=True)\n",
    "        marg = np.sum(plan[-nb_dummies:], axis=0)\n",
    "        \n",
    "        y_hat = np.ones(len(y_u))\n",
    "        y_hat[np.argsort(marg)[nb_unl_pos:]] = 0\n",
    "        \n",
    "        acc.append(accuracy_score(y_u, y_hat))\n",
    "        rec.append(recall_score(y_u, y_hat))\n",
    "        prec.append(precision_score(y_u, y_hat))\n",
    "    \n",
    "    # Compute mean\n",
    "    print(f'Accuracy for dataset {(d_p, d_u, prior)}: {100 * np.mean(acc)} $\\pm$ {100 * np.std(acc)}')\n",
    "#     print(f'Recall for dataset {(d_p, d_u)}: {np.mean(rec)} $\\pm$ {np.std(rec)}')\n",
    "#     print(f'Precision for dataset {(d_p, d_u)}: {np.mean(prec)} $\\pm$ {np.std(prec)}\\n')"
   ]
  },
  {
   "cell_type": "markdown",
   "metadata": {},
   "source": [
    "## Prior is set to 20%"
   ]
  },
  {
   "cell_type": "code",
   "execution_count": 12,
   "metadata": {},
   "outputs": [],
   "source": [
    "n_unl = 100\n",
    "n_pos = 100\n",
    "nb_reps = 20\n",
    "nb_dummies = 10\n",
    "prior = 0.2\n",
    "domain_s = ['surf_Caltech', 'surf_amazon', 'surf_webcam']\n",
    "domain_d = ['decaf_caltech', 'decaf_amazon', 'decaf_webcam']"
   ]
  },
  {
   "cell_type": "code",
   "execution_count": 9,
   "metadata": {},
   "outputs": [],
   "source": [
    "n_unl = 100\n",
    "n_pos = 100\n",
    "nb_reps = 20\n",
    "nb_dummies = 10\n",
    "prior = 0.2\n",
    "\n",
    "domain_s = ['surf_Caltech', 'surf_amazon', 'surf_webcam']\n",
    "for d in domain_s:\n",
    "    pgw.compute_perf_pgw('surf_Caltech', d, n_pos, n_unl, prior, nb_reps, 'results_pgw', nb_dummies)\n",
    "    \n",
    "domain_d = ['decaf_caltech', 'decaf_amazon', 'decaf_webcam']\n",
    "for d in domain_d:\n",
    "    pgw.compute_perf_pgw('decaf_caltech', d, n_pos, n_unl, prior, nb_reps, 'results_pgw', nb_dummies)"
   ]
  },
  {
   "cell_type": "code",
   "execution_count": 13,
   "metadata": {},
   "outputs": [
    {
     "name": "stdout",
     "output_type": "stream",
     "text": [
      "Accuracy for dataset ('surf_Caltech', 'surf_Caltech', 0.2): 75.7 $\\pm$ 4.659399102888697\n",
      "Accuracy for dataset ('surf_Caltech', 'surf_amazon', 0.2): 65.99999999999999 $\\pm$ 3.286335345030996\n",
      "Accuracy for dataset ('surf_Caltech', 'surf_webcam', 0.2): 64.30000000000001 $\\pm$ 2.123676058159532\n",
      "Accuracy for dataset ('decaf_caltech', 'decaf_caltech', 0.2): 76.70000000000002 $\\pm$ 3.593048844644337\n",
      "Accuracy for dataset ('decaf_caltech', 'decaf_amazon', 0.2): 68.7 $\\pm$ 4.394314508543966\n",
      "Accuracy for dataset ('decaf_caltech', 'decaf_webcam', 0.2): 75.9 $\\pm$ 3.6041642581880216\n"
     ]
    }
   ],
   "source": [
    "np.set_printoptions(precision=5)\n",
    "datasets = [('surf_Caltech', d) for d in domain_s] + [('decaf_caltech', d) for d in domain_d]\n",
    "for (d_p, d_u) in datasets:\n",
    "    acc, rec, prec = [], [], []\n",
    "    \n",
    "    # Aggregate and compute accuracies\n",
    "    for i in range(nb_reps):\n",
    "        P, U, y_u = utils.draw_p_u_dataset_scar(d_p, d_u, n_pos, n_unl, prior, i)\n",
    "        nb_unl_pos = int(np.sum(y_u))\n",
    "        \n",
    "        plan = np.load(path + f'/partial_gw_plan_{d_p}_{n_pos}_{d_u}_{n_unl}_prior{prior}_reps{i}.npy', allow_pickle=True)\n",
    "        marg = np.sum(plan[-nb_dummies:], axis=0)\n",
    "        \n",
    "        y_hat = np.ones(len(y_u))\n",
    "        y_hat[np.argsort(marg)[nb_unl_pos:]] = 0\n",
    "        \n",
    "        acc.append(accuracy_score(y_u, y_hat))\n",
    "        rec.append(recall_score(y_u, y_hat))\n",
    "        prec.append(precision_score(y_u, y_hat))\n",
    "    \n",
    "    # Compute mean\n",
    "    print(f'Accuracy for dataset {(d_p, d_u, prior)}: {100 * np.mean(acc)} $\\pm$ {100 * np.std(acc)}')\n",
    "#     print(f'Recall for dataset {(d_p, d_u)}: {np.mean(rec)} $\\pm$ {np.std(rec)}')\n",
    "#     print(f'Precision for dataset {(d_p, d_u)}: {np.mean(prec)} $\\pm$ {np.std(prec)}\\n')"
   ]
  },
  {
   "cell_type": "markdown",
   "metadata": {},
   "source": [
    "# Caltech dataset - PU on different feature spaces\n",
    "## Prior is set tio 10%"
   ]
  },
  {
   "cell_type": "code",
   "execution_count": 14,
   "metadata": {},
   "outputs": [],
   "source": [
    "n_unl = 100\n",
    "n_pos = 100\n",
    "nb_reps = 20\n",
    "nb_dummies = 10\n",
    "prior = 0.1\n",
    "domain_s = ['surf_Caltech', 'surf_amazon', 'surf_webcam', 'surf_dslr']\n",
    "domain_d = ['decaf_caltech', 'decaf_amazon', 'decaf_webcam', 'decaf_dslr']"
   ]
  },
  {
   "cell_type": "code",
   "execution_count": 11,
   "metadata": {},
   "outputs": [],
   "source": [
    "n_unl = 100\n",
    "n_pos = 100\n",
    "nb_reps = 20\n",
    "nb_dummies = 10\n",
    "prior = 0.1\n",
    "\n",
    "domain_s = ['surf_Caltech', 'surf_amazon', 'surf_webcam', 'surf_dslr']\n",
    "for d in domain_s:\n",
    "    pgw.compute_perf_pgw('decaf_caltech', d, n_pos, n_unl, prior, nb_reps, 'results_pgw', nb_dummies)\n",
    "    \n",
    "domain_d = ['decaf_caltech', 'decaf_amazon', 'decaf_webcam', 'decaf_dslr']\n",
    "for d in domain_d:\n",
    "    pgw.compute_perf_pgw('surf_Caltech', d, n_pos, n_unl, prior, nb_reps, 'results_pgw', nb_dummies)"
   ]
  },
  {
   "cell_type": "code",
   "execution_count": 15,
   "metadata": {},
   "outputs": [
    {
     "name": "stdout",
     "output_type": "stream",
     "text": [
      "Accuracy for dataset ('surf_Caltech', 'decaf_caltech', 0.1): 85.1 $\\pm$ 2.643860813280458\n",
      "Accuracy for dataset ('surf_Caltech', 'decaf_amazon', 0.1): 87.10000000000001 $\\pm$ 6.49538297562199\n",
      "Accuracy for dataset ('surf_Caltech', 'decaf_webcam', 0.1): 88.6 $\\pm$ 5.624944444170091\n",
      "Accuracy for dataset ('surf_Caltech', 'decaf_dslr', 0.1): 91.10000000000001 $\\pm$ 8.086408349817608\n",
      "Accuracy for dataset ('decaf_caltech', 'surf_Caltech', 0.1): 81.00000000000001 $\\pm$ 1.6124515496597067\n",
      "Accuracy for dataset ('decaf_caltech', 'surf_amazon', 0.1): 81.2 $\\pm$ 1.9390719429665286\n",
      "Accuracy for dataset ('decaf_caltech', 'surf_webcam', 0.1): 81.30000000000001 $\\pm$ 2.0273134932713264\n",
      "Accuracy for dataset ('decaf_caltech', 'surf_dslr', 0.1): 80.80000000000001 $\\pm$ 1.599999999999997\n"
     ]
    }
   ],
   "source": [
    "np.set_printoptions(precision=5)\n",
    "datasets = [('surf_Caltech', d) for d in domain_d] + [('decaf_caltech', d) for d in domain_s]\n",
    "for (d_p, d_u) in datasets:\n",
    "    acc, rec, prec = [], [], []\n",
    "    \n",
    "    # Aggregate and compute accuracies\n",
    "    for i in range(nb_reps):\n",
    "        P, U, y_u = utils.draw_p_u_dataset_scar(d_p, d_u, n_pos, n_unl, prior, i)\n",
    "        nb_unl_pos = int(np.sum(y_u))\n",
    "        \n",
    "        plan = np.load(path + f'/partial_gw_plan_{d_p}_{n_pos}_{d_u}_{n_unl}_prior{prior}_reps{i}.npy', allow_pickle=True)\n",
    "        marg = np.sum(plan[-nb_dummies:], axis=0)\n",
    "        \n",
    "        y_hat = np.ones(len(y_u))\n",
    "        y_hat[np.argsort(marg)[nb_unl_pos:]] = 0\n",
    "        \n",
    "        acc.append(accuracy_score(y_u, y_hat))\n",
    "        rec.append(recall_score(y_u, y_hat))\n",
    "        prec.append(precision_score(y_u, y_hat))\n",
    "    \n",
    "    # Compute mean\n",
    "    print(f'Accuracy for dataset {(d_p, d_u, prior)}: {100 * np.mean(acc)} $\\pm$ {100 * np.std(acc)}')\n",
    "#     print(f'Recall for dataset {(d_p, d_u)}: {np.mean(rec)} $\\pm$ {np.std(rec)}')\n",
    "#     print(f'Precision for dataset {(d_p, d_u)}: {np.mean(prec)} $\\pm$ {np.std(prec)}\\n')"
   ]
  },
  {
   "cell_type": "markdown",
   "metadata": {},
   "source": [
    "## Prior is set to 20%"
   ]
  },
  {
   "cell_type": "code",
   "execution_count": 16,
   "metadata": {},
   "outputs": [],
   "source": [
    "n_unl = 100\n",
    "n_pos = 100\n",
    "nb_reps = 20\n",
    "nb_dummies = 10\n",
    "prior = 0.2\n",
    "domain_s = ['surf_Caltech', 'surf_amazon', 'surf_webcam']\n",
    "domain_d = ['decaf_caltech', 'decaf_amazon', 'decaf_webcam']"
   ]
  },
  {
   "cell_type": "code",
   "execution_count": 14,
   "metadata": {},
   "outputs": [],
   "source": [
    "n_unl = 100\n",
    "n_pos = 100\n",
    "nb_reps = 20\n",
    "nb_dummies = 10\n",
    "prior = 0.2\n",
    "\n",
    "domain_s = ['surf_Caltech', 'surf_amazon', 'surf_webcam']\n",
    "for d in domain_s:\n",
    "    pgw.compute_perf_pgw('decaf_caltech', d, n_pos, n_unl, prior, nb_reps, 'results_pgw', nb_dummies)\n",
    "    \n",
    "domain_d = ['decaf_caltech', 'decaf_amazon', 'decaf_webcam']\n",
    "for d in domain_d:\n",
    "    pgw.compute_perf_pgw('surf_Caltech', d, n_pos, n_unl, prior, nb_reps, 'results_pgw', nb_dummies)"
   ]
  },
  {
   "cell_type": "code",
   "execution_count": 17,
   "metadata": {},
   "outputs": [
    {
     "name": "stdout",
     "output_type": "stream",
     "text": [
      "Accuracy for dataset ('surf_Caltech', 'decaf_caltech', 0.2): 75.6 $\\pm$ 3.322649545167231\n",
      "Accuracy for dataset ('surf_Caltech', 'decaf_amazon', 0.2): 87.89999999999999 $\\pm$ 6.617401302626283\n",
      "Accuracy for dataset ('surf_Caltech', 'decaf_webcam', 0.2): 88.4 $\\pm$ 5.817215828899594\n",
      "Accuracy for dataset ('decaf_caltech', 'surf_Caltech', 0.2): 63.69999999999999 $\\pm$ 2.917190429162966\n",
      "Accuracy for dataset ('decaf_caltech', 'surf_amazon', 0.2): 62.39999999999999 $\\pm$ 4.454211490264018\n",
      "Accuracy for dataset ('decaf_caltech', 'surf_webcam', 0.2): 61.4 $\\pm$ 3.231098884280704\n"
     ]
    }
   ],
   "source": [
    "np.set_printoptions(precision=5)\n",
    "datasets = [('surf_Caltech', d) for d in domain_d] + [('decaf_caltech', d) for d in domain_s]\n",
    "for (d_p, d_u) in datasets:\n",
    "    acc, rec, prec = [], [], []\n",
    "    \n",
    "    # Aggregate and compute accuracies\n",
    "    for i in range(nb_reps):\n",
    "        P, U, y_u = utils.draw_p_u_dataset_scar(d_p, d_u, n_pos, n_unl, prior, i)\n",
    "        nb_unl_pos = int(np.sum(y_u))\n",
    "        \n",
    "        plan = np.load(path + f'/partial_gw_plan_{d_p}_{n_pos}_{d_u}_{n_unl}_prior{prior}_reps{i}.npy', allow_pickle=True)\n",
    "        marg = np.sum(plan[-nb_dummies:], axis=0)\n",
    "        \n",
    "        y_hat = np.ones(len(y_u))\n",
    "        y_hat[np.argsort(marg)[nb_unl_pos:]] = 0\n",
    "        \n",
    "        acc.append(accuracy_score(y_u, y_hat))\n",
    "        rec.append(recall_score(y_u, y_hat))\n",
    "        prec.append(precision_score(y_u, y_hat))\n",
    "    \n",
    "    # Compute mean\n",
    "    print(f'Accuracy for dataset {(d_p, d_u, prior)}: {100 * np.mean(acc)} $\\pm$ {100 * np.std(acc)}')\n",
    "#     print(f'Recall for dataset {(d_p, d_u)}: {np.mean(rec)} $\\pm$ {np.std(rec)}')\n",
    "#     print(f'Precision for dataset {(d_p, d_u)}: {np.mean(prec)} $\\pm$ {np.std(prec)}\\n')"
   ]
  },
  {
   "cell_type": "markdown",
   "metadata": {},
   "source": [
    "# Compute performance of initialization - Partial Wasserstein\n",
    "We focus in this section on the computation of Partial-Wasserstein (PW), to check if PGW improves the performance.\n",
    "\n",
    "We only focus on this section on PU learning performed over similar features.\n",
    "\n",
    "## Prior is set to 10%"
   ]
  },
  {
   "cell_type": "code",
   "execution_count": 18,
   "metadata": {},
   "outputs": [],
   "source": [
    "n_unl = 100\n",
    "n_pos = 100\n",
    "nb_reps = 20\n",
    "nb_dummies = 10\n",
    "prior = 0.1\n",
    "domain_s = ['surf_Caltech', 'surf_amazon', 'surf_webcam', 'surf_dslr']\n",
    "domain_d = ['decaf_caltech', 'decaf_amazon', 'decaf_webcam', 'decaf_dslr']"
   ]
  },
  {
   "cell_type": "code",
   "execution_count": null,
   "metadata": {},
   "outputs": [],
   "source": [
    "domain_s = ['surf_Caltech', 'surf_amazon', 'surf_webcam', 'surf_dslr']\n",
    "for d in domain_s:\n",
    "    pgw.compute_perf_init('surf_Caltech', d, n_pos, n_unl, prior, nb_reps, 'results_pgw', nb_dummies)\n",
    "    \n",
    "domain_d = ['decaf_caltech', 'decaf_amazon', 'decaf_webcam', 'decaf_dslr']\n",
    "for d in domain_d:\n",
    "    pgw.compute_perf_init('decaf_caltech', d, n_pos, n_unl, prior, nb_reps, 'results_pgw', nb_dummies)"
   ]
  },
  {
   "cell_type": "code",
   "execution_count": 19,
   "metadata": {},
   "outputs": [
    {
     "name": "stdout",
     "output_type": "stream",
     "text": [
      "Accuracy for dataset ('surf_Caltech', 'surf_Caltech', 0.1): 89.9 $\\pm$ 2.046948949045873\n",
      "Accuracy for dataset ('surf_Caltech', 'surf_amazon', 0.1): 81.80000000000001 $\\pm$ 1.2489995996796768\n",
      "Accuracy for dataset ('surf_Caltech', 'surf_webcam', 0.1): 81.89999999999999 $\\pm$ 1.3379088160259627\n",
      "Accuracy for dataset ('surf_Caltech', 'surf_dslr', 0.1): 80.00000000000001 $\\pm$ 1.1102230246251565e-14\n",
      "Accuracy for dataset ('decaf_caltech', 'decaf_caltech', 0.1): 93.9 $\\pm$ 1.6093476939431057\n",
      "Accuracy for dataset ('decaf_caltech', 'decaf_amazon', 0.1): 80.10000000000002 $\\pm$ 0.43588989435406533\n",
      "Accuracy for dataset ('decaf_caltech', 'decaf_webcam', 0.1): 80.10000000000002 $\\pm$ 0.43588989435406533\n",
      "Accuracy for dataset ('decaf_caltech', 'decaf_dslr', 0.1): 80.60000000000002 $\\pm$ 0.9165151389911639\n"
     ]
    }
   ],
   "source": [
    "datasets = [('surf_Caltech', d) for d in domain_s] + [('decaf_caltech', d) for d in domain_d]\n",
    "for (d_p, d_u) in datasets:\n",
    "    acc, rec, prec = [], [], []\n",
    "    \n",
    "    # Aggregate and compute accuracies\n",
    "    for i in range(nb_reps):\n",
    "        P, U, y_u = utils.draw_p_u_dataset_scar(d_p, d_u, n_pos, n_unl, prior, i)\n",
    "        nb_unl_pos = int(np.sum(y_u))\n",
    "        \n",
    "        plan = np.load(path + f'/partial_gw_init_{d_p}_{n_pos}_{d_u}_{n_unl}_prior{prior}_reps{i}.npy', allow_pickle=True)\n",
    "        marg = np.sum(plan[-nb_dummies:], axis=0)\n",
    "        \n",
    "        y_hat = np.ones(len(y_u))\n",
    "        y_hat[np.argsort(marg)[nb_unl_pos:]] = 0\n",
    "        \n",
    "        acc.append(accuracy_score(y_u, y_hat))\n",
    "        rec.append(recall_score(y_u, y_hat))\n",
    "        prec.append(precision_score(y_u, y_hat))\n",
    "    \n",
    "    # Compute mean\n",
    "    print(f'Accuracy for dataset {(d_p, d_u, prior)}: {100 * np.mean(acc)} $\\pm$ {100 * np.std(acc)}')\n",
    "#     print(f'Recall for dataset {(d_p, d_u)}: {np.mean(rec)} $\\pm$ {np.std(rec)}')\n",
    "#     print(f'Precision for dataset {(d_p, d_u)}: {np.mean(prec)} $\\pm$ {np.std(prec)}\\n')"
   ]
  },
  {
   "cell_type": "markdown",
   "metadata": {},
   "source": [
    "## Prior is set to 20%"
   ]
  },
  {
   "cell_type": "code",
   "execution_count": 20,
   "metadata": {},
   "outputs": [],
   "source": [
    "n_unl = 100\n",
    "n_pos = 100\n",
    "nb_reps = 20\n",
    "nb_dummies = 10\n",
    "prior = 0.2\n",
    "domain_s = ['surf_Caltech', 'surf_amazon', 'surf_webcam']\n",
    "domain_d = ['decaf_caltech', 'decaf_amazon', 'decaf_webcam']"
   ]
  },
  {
   "cell_type": "code",
   "execution_count": null,
   "metadata": {},
   "outputs": [],
   "source": [
    "domain_s = ['surf_Caltech', 'surf_amazon', 'surf_webcam']\n",
    "for d in domain_s:\n",
    "    pgw.compute_perf_init('surf_Caltech', d, n_pos, n_unl, prior, nb_reps, 'results_pgw', nb_dummies)\n",
    "    \n",
    "domain_d = ['decaf_caltech', 'decaf_amazon', 'decaf_webcam']\n",
    "for d in domain_d:\n",
    "    pgw.compute_perf_init('decaf_caltech', d, n_pos, n_unl, prior, nb_reps, 'results_pgw', nb_dummies)"
   ]
  },
  {
   "cell_type": "code",
   "execution_count": 21,
   "metadata": {},
   "outputs": [
    {
     "name": "stdout",
     "output_type": "stream",
     "text": [
      "Accuracy for dataset ('surf_Caltech', 'surf_Caltech', 0.2): 79.7 $\\pm$ 2.9849623113198587\n",
      "Accuracy for dataset ('surf_Caltech', 'surf_amazon', 0.2): 65.6 $\\pm$ 2.870540018881464\n",
      "Accuracy for dataset ('surf_Caltech', 'surf_webcam', 0.2): 65.10000000000001 $\\pm$ 1.946792233393179\n",
      "Accuracy for dataset ('decaf_caltech', 'decaf_caltech', 0.2): 90.60000000000002 $\\pm$ 2.5377155080899043\n",
      "Accuracy for dataset ('decaf_caltech', 'decaf_amazon', 0.2): 62.499999999999986 $\\pm$ 2.085665361461421\n",
      "Accuracy for dataset ('decaf_caltech', 'decaf_webcam', 0.2): 65.7 $\\pm$ 1.926136028425824\n"
     ]
    }
   ],
   "source": [
    "datasets = [('surf_Caltech', d) for d in domain_s] + [('decaf_caltech', d) for d in domain_d]\n",
    "for (d_p, d_u) in datasets:\n",
    "    acc, rec, prec = [], [], []\n",
    "    \n",
    "    # Aggregate and compute accuracies\n",
    "    for i in range(nb_reps):\n",
    "        P, U, y_u = utils.draw_p_u_dataset_scar(d_p, d_u, n_pos, n_unl, prior, i)\n",
    "        nb_unl_pos = int(np.sum(y_u))\n",
    "        \n",
    "        plan = np.load(path + f'/partial_gw_init_{d_p}_{n_pos}_{d_u}_{n_unl}_prior{prior}_reps{i}.npy', allow_pickle=True)\n",
    "        marg = np.sum(plan[-nb_dummies:], axis=0)\n",
    "        \n",
    "        y_hat = np.ones(len(y_u))\n",
    "        y_hat[np.argsort(marg)[nb_unl_pos:]] = 0\n",
    "        \n",
    "        acc.append(accuracy_score(y_u, y_hat))\n",
    "        rec.append(recall_score(y_u, y_hat))\n",
    "        prec.append(precision_score(y_u, y_hat))\n",
    "    \n",
    "    # Compute mean\n",
    "    print(f'Accuracy for dataset {(d_p, d_u, prior)}: {100 * np.mean(acc)} $\\pm$ {100 * np.std(acc)}')\n",
    "#     print(f'Recall for dataset {(d_p, d_u)}: {np.mean(rec)} $\\pm$ {np.std(rec)}')\n",
    "#     print(f'Precision for dataset {(d_p, d_u)}: {np.mean(prec)} $\\pm$ {np.std(prec)}\\n')"
   ]
  },
  {
   "cell_type": "code",
   "execution_count": null,
   "metadata": {},
   "outputs": [],
   "source": []
  }
 ],
 "metadata": {
  "kernelspec": {
   "display_name": "Python 3",
   "language": "python",
   "name": "python3"
  },
  "language_info": {
   "codemirror_mode": {
    "name": "ipython",
    "version": 3
   },
   "file_extension": ".py",
   "mimetype": "text/x-python",
   "name": "python",
   "nbconvert_exporter": "python",
   "pygments_lexer": "ipython3",
   "version": "3.8.8"
  }
 },
 "nbformat": 4,
 "nbformat_minor": 2
}
